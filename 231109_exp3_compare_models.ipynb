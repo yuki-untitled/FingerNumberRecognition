{
  "cells": [
    {
      "cell_type": "markdown",
      "id": "a480e3c9",
      "metadata": {
        "id": "a480e3c9"
      },
      "source": [
        "# 🤖 実験3：Webアプリ用モデルの作成と保存\n",
        "*情報保障システム工学・演習 2025 – 第4回*\n",
        "\n",
        "**本日のゴール:**\n",
        "1. DNNの学習を実装する\n",
        "2. 線形モデル、アンサンブル、DNNなど複数のモデルを試し、最適なモデルを選択する\n",
        "3. Webアプリで読み込める形式 (`model_meta.json`) でモデルを保存する"
      ]
    },
    {
      "cell_type": "markdown",
      "id": "3ef6293a",
      "metadata": {
        "id": "3ef6293a"
      },
      "source": [
        "## 0. ライブラリ読み込み"
      ]
    },
    {
      "cell_type": "code",
      "execution_count": 1,
      "id": "install_scikeras",
      "metadata": {
        "id": "install_scikeras",
        "colab": {
          "base_uri": "https://localhost:8080/"
        },
        "outputId": "4d79ac90-eef0-4405-ea94-e2f737314d2c"
      },
      "outputs": [
        {
          "output_type": "stream",
          "name": "stdout",
          "text": [
            "✔️ scikeras インストールOK\n"
          ]
        }
      ],
      "source": [
        "!pip install scikeras -q\n",
        "print('✔️ scikeras インストールOK')"
      ]
    },
    {
      "cell_type": "code",
      "execution_count": 2,
      "id": "9605e6bd",
      "metadata": {
        "id": "9605e6bd",
        "colab": {
          "base_uri": "https://localhost:8080/"
        },
        "outputId": "39d510c1-957e-4aae-c51a-481a2174595e"
      },
      "outputs": [
        {
          "output_type": "stream",
          "name": "stdout",
          "text": [
            "✔️ ライブラリ準備OK\n"
          ]
        }
      ],
      "source": [
        "import pandas as pd, numpy as np, glob, json, time, os\n",
        "from google.colab import files\n",
        "import tensorflow as tf\n",
        "from scikeras.wrappers import KerasClassifier\n",
        "from sklearn.model_selection import train_test_split\n",
        "from sklearn.preprocessing import StandardScaler\n",
        "from sklearn.pipeline import Pipeline\n",
        "from sklearn.linear_model import LogisticRegression\n",
        "from sklearn.svm import LinearSVC, SVC\n",
        "from sklearn.multiclass import OneVsRestClassifier\n",
        "from sklearn.ensemble import RandomForestClassifier\n",
        "from sklearn.metrics import accuracy_score\n",
        "print('✔️ ライブラリ準備OK')"
      ]
    },
    {
      "cell_type": "markdown",
      "id": "a3b6426c",
      "metadata": {
        "id": "a3b6426c"
      },
      "source": [
        "## 1. CSV を `data/` にアップロード\n",
        "1. 左のフォルダ ▶ で `右クリック` → **`data`** フォルダ作成  \n",
        "2. `1-01.csv`〜`9-20.csv` を **ドラッグ&ドロップ**\n",
        "3. 下セルで 180 ファイルあるか確認"
      ]
    },
    {
      "cell_type": "code",
      "execution_count": 13,
      "id": "9ed80fca",
      "metadata": {
        "id": "9ed80fca",
        "colab": {
          "base_uri": "https://localhost:8080/"
        },
        "outputId": "d1ffc3fc-6a9e-4de6-ca02-5a056e13a297"
      },
      "outputs": [
        {
          "output_type": "stream",
          "name": "stdout",
          "text": [
            "ファイル数: 180\n"
          ]
        }
      ],
      "source": [
        "csv_files = sorted(glob.glob('data2/*.csv'))\n",
        "print('ファイル数:', len(csv_files))\n",
        "assert len(csv_files)==180, '180 ファイルない場合はアップロード漏れを確認'"
      ]
    },
    {
      "cell_type": "markdown",
      "id": "b26de9f5",
      "metadata": {
        "id": "b26de9f5"
      },
      "source": [
        "## 2. 全データを1つの DataFrame に結合"
      ]
    },
    {
      "cell_type": "code",
      "execution_count": 14,
      "id": "07e3f058",
      "metadata": {
        "id": "07e3f058",
        "colab": {
          "base_uri": "https://localhost:8080/",
          "height": 225
        },
        "outputId": "e74e4772-7069-4d8c-bea4-ee4c99753533"
      },
      "outputs": [
        {
          "output_type": "stream",
          "name": "stdout",
          "text": [
            "total_df shape: (3780, 6)\n"
          ]
        },
        {
          "output_type": "execute_result",
          "data": {
            "text/plain": [
              "   index         x         y         z  label  num\n",
              "0      0  0.586765  0.900168 -0.000001      1    1\n",
              "1      1  0.506538  0.829854 -0.039034      1    1\n",
              "2      2  0.437750  0.687593 -0.067367      1    1\n",
              "3      3  0.461338  0.570361 -0.099242      1    1\n",
              "4      4  0.544183  0.524047 -0.128717      1    1"
            ],
            "text/html": [
              "\n",
              "  <div id=\"df-9c694b4c-d14d-4987-907b-5d349df7a5ca\" class=\"colab-df-container\">\n",
              "    <div>\n",
              "<style scoped>\n",
              "    .dataframe tbody tr th:only-of-type {\n",
              "        vertical-align: middle;\n",
              "    }\n",
              "\n",
              "    .dataframe tbody tr th {\n",
              "        vertical-align: top;\n",
              "    }\n",
              "\n",
              "    .dataframe thead th {\n",
              "        text-align: right;\n",
              "    }\n",
              "</style>\n",
              "<table border=\"1\" class=\"dataframe\">\n",
              "  <thead>\n",
              "    <tr style=\"text-align: right;\">\n",
              "      <th></th>\n",
              "      <th>index</th>\n",
              "      <th>x</th>\n",
              "      <th>y</th>\n",
              "      <th>z</th>\n",
              "      <th>label</th>\n",
              "      <th>num</th>\n",
              "    </tr>\n",
              "  </thead>\n",
              "  <tbody>\n",
              "    <tr>\n",
              "      <th>0</th>\n",
              "      <td>0</td>\n",
              "      <td>0.586765</td>\n",
              "      <td>0.900168</td>\n",
              "      <td>-0.000001</td>\n",
              "      <td>1</td>\n",
              "      <td>1</td>\n",
              "    </tr>\n",
              "    <tr>\n",
              "      <th>1</th>\n",
              "      <td>1</td>\n",
              "      <td>0.506538</td>\n",
              "      <td>0.829854</td>\n",
              "      <td>-0.039034</td>\n",
              "      <td>1</td>\n",
              "      <td>1</td>\n",
              "    </tr>\n",
              "    <tr>\n",
              "      <th>2</th>\n",
              "      <td>2</td>\n",
              "      <td>0.437750</td>\n",
              "      <td>0.687593</td>\n",
              "      <td>-0.067367</td>\n",
              "      <td>1</td>\n",
              "      <td>1</td>\n",
              "    </tr>\n",
              "    <tr>\n",
              "      <th>3</th>\n",
              "      <td>3</td>\n",
              "      <td>0.461338</td>\n",
              "      <td>0.570361</td>\n",
              "      <td>-0.099242</td>\n",
              "      <td>1</td>\n",
              "      <td>1</td>\n",
              "    </tr>\n",
              "    <tr>\n",
              "      <th>4</th>\n",
              "      <td>4</td>\n",
              "      <td>0.544183</td>\n",
              "      <td>0.524047</td>\n",
              "      <td>-0.128717</td>\n",
              "      <td>1</td>\n",
              "      <td>1</td>\n",
              "    </tr>\n",
              "  </tbody>\n",
              "</table>\n",
              "</div>\n",
              "    <div class=\"colab-df-buttons\">\n",
              "\n",
              "  <div class=\"colab-df-container\">\n",
              "    <button class=\"colab-df-convert\" onclick=\"convertToInteractive('df-9c694b4c-d14d-4987-907b-5d349df7a5ca')\"\n",
              "            title=\"Convert this dataframe to an interactive table.\"\n",
              "            style=\"display:none;\">\n",
              "\n",
              "  <svg xmlns=\"http://www.w3.org/2000/svg\" height=\"24px\" viewBox=\"0 -960 960 960\">\n",
              "    <path d=\"M120-120v-720h720v720H120Zm60-500h600v-160H180v160Zm220 220h160v-160H400v160Zm0 220h160v-160H400v160ZM180-400h160v-160H180v160Zm440 0h160v-160H620v160ZM180-180h160v-160H180v160Zm440 0h160v-160H620v160Z\"/>\n",
              "  </svg>\n",
              "    </button>\n",
              "\n",
              "  <style>\n",
              "    .colab-df-container {\n",
              "      display:flex;\n",
              "      gap: 12px;\n",
              "    }\n",
              "\n",
              "    .colab-df-convert {\n",
              "      background-color: #E8F0FE;\n",
              "      border: none;\n",
              "      border-radius: 50%;\n",
              "      cursor: pointer;\n",
              "      display: none;\n",
              "      fill: #1967D2;\n",
              "      height: 32px;\n",
              "      padding: 0 0 0 0;\n",
              "      width: 32px;\n",
              "    }\n",
              "\n",
              "    .colab-df-convert:hover {\n",
              "      background-color: #E2EBFA;\n",
              "      box-shadow: 0px 1px 2px rgba(60, 64, 67, 0.3), 0px 1px 3px 1px rgba(60, 64, 67, 0.15);\n",
              "      fill: #174EA6;\n",
              "    }\n",
              "\n",
              "    .colab-df-buttons div {\n",
              "      margin-bottom: 4px;\n",
              "    }\n",
              "\n",
              "    [theme=dark] .colab-df-convert {\n",
              "      background-color: #3B4455;\n",
              "      fill: #D2E3FC;\n",
              "    }\n",
              "\n",
              "    [theme=dark] .colab-df-convert:hover {\n",
              "      background-color: #434B5C;\n",
              "      box-shadow: 0px 1px 3px 1px rgba(0, 0, 0, 0.15);\n",
              "      filter: drop-shadow(0px 1px 2px rgba(0, 0, 0, 0.3));\n",
              "      fill: #FFFFFF;\n",
              "    }\n",
              "  </style>\n",
              "\n",
              "    <script>\n",
              "      const buttonEl =\n",
              "        document.querySelector('#df-9c694b4c-d14d-4987-907b-5d349df7a5ca button.colab-df-convert');\n",
              "      buttonEl.style.display =\n",
              "        google.colab.kernel.accessAllowed ? 'block' : 'none';\n",
              "\n",
              "      async function convertToInteractive(key) {\n",
              "        const element = document.querySelector('#df-9c694b4c-d14d-4987-907b-5d349df7a5ca');\n",
              "        const dataTable =\n",
              "          await google.colab.kernel.invokeFunction('convertToInteractive',\n",
              "                                                    [key], {});\n",
              "        if (!dataTable) return;\n",
              "\n",
              "        const docLinkHtml = 'Like what you see? Visit the ' +\n",
              "          '<a target=\"_blank\" href=https://colab.research.google.com/notebooks/data_table.ipynb>data table notebook</a>'\n",
              "          + ' to learn more about interactive tables.';\n",
              "        element.innerHTML = '';\n",
              "        dataTable['output_type'] = 'display_data';\n",
              "        await google.colab.output.renderOutput(dataTable, element);\n",
              "        const docLink = document.createElement('div');\n",
              "        docLink.innerHTML = docLinkHtml;\n",
              "        element.appendChild(docLink);\n",
              "      }\n",
              "    </script>\n",
              "  </div>\n",
              "\n",
              "\n",
              "    <div id=\"df-8598b2ad-ef8d-4079-840f-54daefd042b7\">\n",
              "      <button class=\"colab-df-quickchart\" onclick=\"quickchart('df-8598b2ad-ef8d-4079-840f-54daefd042b7')\"\n",
              "                title=\"Suggest charts\"\n",
              "                style=\"display:none;\">\n",
              "\n",
              "<svg xmlns=\"http://www.w3.org/2000/svg\" height=\"24px\"viewBox=\"0 0 24 24\"\n",
              "     width=\"24px\">\n",
              "    <g>\n",
              "        <path d=\"M19 3H5c-1.1 0-2 .9-2 2v14c0 1.1.9 2 2 2h14c1.1 0 2-.9 2-2V5c0-1.1-.9-2-2-2zM9 17H7v-7h2v7zm4 0h-2V7h2v10zm4 0h-2v-4h2v4z\"/>\n",
              "    </g>\n",
              "</svg>\n",
              "      </button>\n",
              "\n",
              "<style>\n",
              "  .colab-df-quickchart {\n",
              "      --bg-color: #E8F0FE;\n",
              "      --fill-color: #1967D2;\n",
              "      --hover-bg-color: #E2EBFA;\n",
              "      --hover-fill-color: #174EA6;\n",
              "      --disabled-fill-color: #AAA;\n",
              "      --disabled-bg-color: #DDD;\n",
              "  }\n",
              "\n",
              "  [theme=dark] .colab-df-quickchart {\n",
              "      --bg-color: #3B4455;\n",
              "      --fill-color: #D2E3FC;\n",
              "      --hover-bg-color: #434B5C;\n",
              "      --hover-fill-color: #FFFFFF;\n",
              "      --disabled-bg-color: #3B4455;\n",
              "      --disabled-fill-color: #666;\n",
              "  }\n",
              "\n",
              "  .colab-df-quickchart {\n",
              "    background-color: var(--bg-color);\n",
              "    border: none;\n",
              "    border-radius: 50%;\n",
              "    cursor: pointer;\n",
              "    display: none;\n",
              "    fill: var(--fill-color);\n",
              "    height: 32px;\n",
              "    padding: 0;\n",
              "    width: 32px;\n",
              "  }\n",
              "\n",
              "  .colab-df-quickchart:hover {\n",
              "    background-color: var(--hover-bg-color);\n",
              "    box-shadow: 0 1px 2px rgba(60, 64, 67, 0.3), 0 1px 3px 1px rgba(60, 64, 67, 0.15);\n",
              "    fill: var(--button-hover-fill-color);\n",
              "  }\n",
              "\n",
              "  .colab-df-quickchart-complete:disabled,\n",
              "  .colab-df-quickchart-complete:disabled:hover {\n",
              "    background-color: var(--disabled-bg-color);\n",
              "    fill: var(--disabled-fill-color);\n",
              "    box-shadow: none;\n",
              "  }\n",
              "\n",
              "  .colab-df-spinner {\n",
              "    border: 2px solid var(--fill-color);\n",
              "    border-color: transparent;\n",
              "    border-bottom-color: var(--fill-color);\n",
              "    animation:\n",
              "      spin 1s steps(1) infinite;\n",
              "  }\n",
              "\n",
              "  @keyframes spin {\n",
              "    0% {\n",
              "      border-color: transparent;\n",
              "      border-bottom-color: var(--fill-color);\n",
              "      border-left-color: var(--fill-color);\n",
              "    }\n",
              "    20% {\n",
              "      border-color: transparent;\n",
              "      border-left-color: var(--fill-color);\n",
              "      border-top-color: var(--fill-color);\n",
              "    }\n",
              "    30% {\n",
              "      border-color: transparent;\n",
              "      border-left-color: var(--fill-color);\n",
              "      border-top-color: var(--fill-color);\n",
              "      border-right-color: var(--fill-color);\n",
              "    }\n",
              "    40% {\n",
              "      border-color: transparent;\n",
              "      border-right-color: var(--fill-color);\n",
              "      border-top-color: var(--fill-color);\n",
              "    }\n",
              "    60% {\n",
              "      border-color: transparent;\n",
              "      border-right-color: var(--fill-color);\n",
              "    }\n",
              "    80% {\n",
              "      border-color: transparent;\n",
              "      border-right-color: var(--fill-color);\n",
              "      border-bottom-color: var(--fill-color);\n",
              "    }\n",
              "    90% {\n",
              "      border-color: transparent;\n",
              "      border-bottom-color: var(--fill-color);\n",
              "    }\n",
              "  }\n",
              "</style>\n",
              "\n",
              "      <script>\n",
              "        async function quickchart(key) {\n",
              "          const quickchartButtonEl =\n",
              "            document.querySelector('#' + key + ' button');\n",
              "          quickchartButtonEl.disabled = true;  // To prevent multiple clicks.\n",
              "          quickchartButtonEl.classList.add('colab-df-spinner');\n",
              "          try {\n",
              "            const charts = await google.colab.kernel.invokeFunction(\n",
              "                'suggestCharts', [key], {});\n",
              "          } catch (error) {\n",
              "            console.error('Error during call to suggestCharts:', error);\n",
              "          }\n",
              "          quickchartButtonEl.classList.remove('colab-df-spinner');\n",
              "          quickchartButtonEl.classList.add('colab-df-quickchart-complete');\n",
              "        }\n",
              "        (() => {\n",
              "          let quickchartButtonEl =\n",
              "            document.querySelector('#df-8598b2ad-ef8d-4079-840f-54daefd042b7 button');\n",
              "          quickchartButtonEl.style.display =\n",
              "            google.colab.kernel.accessAllowed ? 'block' : 'none';\n",
              "        })();\n",
              "      </script>\n",
              "    </div>\n",
              "\n",
              "    </div>\n",
              "  </div>\n"
            ],
            "application/vnd.google.colaboratory.intrinsic+json": {
              "type": "dataframe",
              "variable_name": "total_df",
              "summary": "{\n  \"name\": \"total_df\",\n  \"rows\": 3780,\n  \"fields\": [\n    {\n      \"column\": \"index\",\n      \"properties\": {\n        \"dtype\": \"number\",\n        \"std\": 6,\n        \"min\": 0,\n        \"max\": 20,\n        \"num_unique_values\": 21,\n        \"samples\": [\n          0,\n          17,\n          15\n        ],\n        \"semantic_type\": \"\",\n        \"description\": \"\"\n      }\n    },\n    {\n      \"column\": \"x\",\n      \"properties\": {\n        \"dtype\": \"number\",\n        \"std\": 0.17173648218188511,\n        \"min\": 0.067103,\n        \"max\": 0.958651,\n        \"num_unique_values\": 3767,\n        \"samples\": [\n          0.453697,\n          0.737385,\n          0.443402\n        ],\n        \"semantic_type\": \"\",\n        \"description\": \"\"\n      }\n    },\n    {\n      \"column\": \"y\",\n      \"properties\": {\n        \"dtype\": \"number\",\n        \"std\": 0.1592875940425267,\n        \"min\": 0.058957,\n        \"max\": 1.008497,\n        \"num_unique_values\": 3766,\n        \"samples\": [\n          0.529468,\n          0.523559,\n          0.566704\n        ],\n        \"semantic_type\": \"\",\n        \"description\": \"\"\n      }\n    },\n    {\n      \"column\": \"z\",\n      \"properties\": {\n        \"dtype\": \"number\",\n        \"std\": 0.05262582166378027,\n        \"min\": -0.408479,\n        \"max\": 0.022187,\n        \"num_unique_values\": 3543,\n        \"samples\": [\n          -0.045413,\n          -0.049474,\n          -0.022323\n        ],\n        \"semantic_type\": \"\",\n        \"description\": \"\"\n      }\n    },\n    {\n      \"column\": \"label\",\n      \"properties\": {\n        \"dtype\": \"number\",\n        \"std\": 2,\n        \"min\": 1,\n        \"max\": 9,\n        \"num_unique_values\": 9,\n        \"samples\": [\n          8,\n          2,\n          6\n        ],\n        \"semantic_type\": \"\",\n        \"description\": \"\"\n      }\n    },\n    {\n      \"column\": \"num\",\n      \"properties\": {\n        \"dtype\": \"number\",\n        \"std\": 5,\n        \"min\": 1,\n        \"max\": 20,\n        \"num_unique_values\": 20,\n        \"samples\": [\n          1,\n          18,\n          16\n        ],\n        \"semantic_type\": \"\",\n        \"description\": \"\"\n      }\n    }\n  ]\n}"
            }
          },
          "metadata": {},
          "execution_count": 14
        }
      ],
      "source": [
        "df_list=[]\n",
        "for f in csv_files:\n",
        "    label, num = os.path.splitext(os.path.basename(f))[0].split('-')\n",
        "    tmp = pd.read_csv(f)\n",
        "    tmp['label'] = int(label); tmp['num'] = int(num)\n",
        "    df_list.append(tmp)\n",
        "\n",
        "total_df = pd.concat(df_list, ignore_index=True)\n",
        "print('total_df shape:', total_df.shape)\n",
        "total_df.head()"
      ]
    },
    {
      "cell_type": "markdown",
      "id": "092767cf",
      "metadata": {
        "id": "092767cf"
      },
      "source": [
        "## 3. 特徴量エンジニアリング\n",
        "\n",
        "WebアプリのJavaScriptで行う前処理と**全く同じ**ロジックで、特徴量 `X` と正解ラベル `y` を作成します。"
      ]
    },
    {
      "cell_type": "code",
      "execution_count": 15,
      "id": "4Ldto_7ANzY1",
      "metadata": {
        "id": "4Ldto_7ANzY1",
        "colab": {
          "base_uri": "https://localhost:8080/"
        },
        "outputId": "88d284cc-388b-4cc2-c78f-8e6bcb8f821d"
      },
      "outputs": [
        {
          "output_type": "stream",
          "name": "stdout",
          "text": [
            "X shape: (180, 42)\n",
            "y shape: (180,)\n"
          ]
        }
      ],
      "source": [
        "def create_normalized_features(df):\n",
        "    \"\"\"DataFrameから正規化済みの特徴量Xとラベルyを生成する\"\"\"\n",
        "    X_list, y_list = [], []\n",
        "\n",
        "    # 'label'と'num'でグループ化し、1サンプル(1つのジェスチャー)ごとに処理\n",
        "    for (label, num), group in df.groupby(['label', 'num']):\n",
        "        # ランドマークのインデックス順にソートし、x,y座標をNumpy配列に変換\n",
        "        lm = group.sort_values('index')[['x', 'y']].to_numpy() # shape(21, 2)\n",
        "\n",
        "        # ① 手首(0番)を原点に移動（位置の正規化）\n",
        "        wrist = lm[0].copy() # wristの座標をコピー\n",
        "        lm -= wrist\n",
        "\n",
        "        # ② 手の大きさでスケール（大きさの正規化）\n",
        "        # 0除算を避けるため、ノルムが0の場合は1とする\n",
        "        norm = np.linalg.norm(lm, axis=1).max() or 1.0\n",
        "        lm /= norm\n",
        "\n",
        "        # ③ 42次元ベクトルに変換し、リストに追加\n",
        "        X_list.append(lm.flatten())\n",
        "        y_list.append(label)\n",
        "\n",
        "    return np.array(X_list), np.array(y_list)\n",
        "\n",
        "# 関数を実行してX, yを作成\n",
        "X, y = create_normalized_features(total_df)\n",
        "print('X shape:', X.shape) # (180, 42)のはず\n",
        "print('y shape:', y.shape) # (180,)のはず"
      ]
    },
    {
      "cell_type": "markdown",
      "id": "579f0696",
      "metadata": {
        "id": "579f0696"
      },
      "source": [
        "## 4. 訓練データとテストデータに分割"
      ]
    },
    {
      "cell_type": "code",
      "execution_count": 16,
      "id": "21dee989",
      "metadata": {
        "id": "21dee989",
        "colab": {
          "base_uri": "https://localhost:8080/"
        },
        "outputId": "02ff5540-62b4-4715-98d6-aac6c523b544"
      },
      "outputs": [
        {
          "output_type": "stream",
          "name": "stdout",
          "text": [
            "X_train shape: (126, 42)\n",
            "X_test shape: (54, 42)\n"
          ]
        }
      ],
      "source": [
        "# stratify=y を指定し、各クラスの割合が訓練/テストで均等になるように分割\n",
        "X_train, X_test, y_train, y_test = train_test_split(\n",
        "    X, y, test_size=0.3, stratify=y, random_state=42)\n",
        "\n",
        "print('X_train shape:', X_train.shape)\n",
        "print('X_test shape:', X_test.shape)"
      ]
    },
    {
      "cell_type": "markdown",
      "id": "f96cc800",
      "metadata": {
        "id": "f96cc800"
      },
      "source": [
        "## 5. モデル比較\n",
        "様々な種類のモデルで精度と速度を比較します。"
      ]
    },
    {
      "cell_type": "code",
      "execution_count": 17,
      "id": "define_dnn",
      "metadata": {
        "id": "define_dnn"
      },
      "outputs": [],
      "source": [
        "def create_dnn_model():\n",
        "    \"\"\"比較用のDNNモデルを定義して返す関数\"\"\"\n",
        "    model = tf.keras.models.Sequential([\n",
        "        tf.keras.layers.Input(shape=(42,)),\n",
        "        tf.keras.layers.Dense(64, activation='relu'),\n",
        "        tf.keras.layers.Dropout(0.3),\n",
        "        tf.keras.layers.Dense(32, activation='relu'),\n",
        "        # 出力層: 0-9の10クラス分類 (ラベルが1-9でも10クラスで問題ない)\n",
        "        tf.keras.layers.Dense(10, activation='softmax')\n",
        "    ])\n",
        "    model.compile(\n",
        "        optimizer='adam',\n",
        "        loss='sparse_categorical_crossentropy',\n",
        "        metrics=['accuracy']\n",
        "    )\n",
        "    return model"
      ]
    },
    {
      "cell_type": "code",
      "execution_count": 18,
      "id": "00276e9e",
      "metadata": {
        "id": "00276e9e",
        "colab": {
          "base_uri": "https://localhost:8080/"
        },
        "outputId": "54749a8c-3ce8-4503-d252-fade93eaa0bc"
      },
      "outputs": [
        {
          "output_type": "stream",
          "name": "stdout",
          "text": [
            "scikit-learnモデルで学習と評価を実行します...\n",
            "LogReg          | accuracy: 0.981, time: 0.026 s\n",
            "LinearSVC       | accuracy: 1.000, time: 0.014 s\n",
            "SVC_OvR         | accuracy: 1.000, time: 0.056 s\n",
            "RandomForest    | accuracy: 1.000, time: 0.427 s\n"
          ]
        }
      ],
      "source": [
        "# ===================================================================\n",
        "# 以下のコードで、モデル比較のセル全体を置き換えてください\n",
        "# ===================================================================\n",
        "\n",
        "# --- 1. scikit-learn系統のモデルで学習と評価 ---\n",
        "models_sklearn = {\n",
        "    # ロジスティック回帰\n",
        "    \"LogReg\": Pipeline([\n",
        "        ('sc', StandardScaler()),\n",
        "        ('clf', LogisticRegression(max_iter=1000))\n",
        "    ]),\n",
        "    # 線形SVM (liblinearベース、高速)\n",
        "    \"LinearSVC\": Pipeline([\n",
        "        ('sc', StandardScaler()),\n",
        "        ('clf', LinearSVC(C=10, max_iter=2000, random_state=42, dual=False))\n",
        "    ]),\n",
        "    # 線形SVM (libsvmベース、OvR戦略を明示)\n",
        "    \"SVC_OvR\": Pipeline([\n",
        "        ('sc', StandardScaler()),\n",
        "        ('clf', OneVsRestClassifier(SVC(kernel=\"linear\", C=10, probability=True)))\n",
        "    ]),\n",
        "    # ランダムフォレスト\n",
        "    \"RandomForest\": RandomForestClassifier(max_depth=10, n_estimators=200, random_state=42),\n",
        "}\n",
        "\n",
        "results = {}\n",
        "print(\"scikit-learnモデルで学習と評価を実行します...\")\n",
        "for name, model in models_sklearn.items():\n",
        "    t0 = time.time()\n",
        "    model.fit(X_train, y_train)\n",
        "    acc = accuracy_score(y_test, model.predict(X_test))\n",
        "    results[name] = {'accuracy': acc, 'time': time.time() - t0, 'model': model}\n",
        "    print(f\"{name:<15} | accuracy: {acc:.3f}, time: {results[name]['time']:.3f} s\")"
      ]
    },
    {
      "cell_type": "code",
      "source": [
        "# --- 2. DNNモデルの学習と評価 (手動実行) ---\n",
        "print(\"\\nDNNモデルで学習と評価を手動で実行します...\")\n",
        "name = \"DNN\"\n",
        "t0 = time.time()\n",
        "\n",
        "# (A) データの標準化を手動で実行\n",
        "scaler_dnn = StandardScaler()\n",
        "# TODO-1: 訓練データ(X_train)を、scaler_dnnに学習させて(fit)変換(transform)しよう\n",
        "X_train_scaled = scaler_dnn.fit_transform(X_train) # ← (A) この括弧の中身を考えよう\n",
        "\n",
        "# テストデータ(X_test)は、訓練データで学習したスケーラーを使って変換するだけ（情報が漏れないようにするため）\n",
        "X_test_scaled = scaler_dnn.transform(X_test) # ← (B) この括弧の中身を考えよう\n",
        "\n",
        "# (B) Kerasモデルを直接作成・学習\n",
        "dnn_model = create_dnn_model()\n",
        "dnn_model.fit(X_train_scaled, y_train, epochs=60, batch_size=16, verbose=0)\n",
        "\n",
        "# (C) 予測を行い、確率からクラスラベルに変換\n",
        "y_pred_probs = dnn_model.predict(X_test_scaled, verbose=0)\n",
        "y_pred_dnn = np.argmax(y_pred_probs, axis=1) # 最も確率の高いクラスを選ぶ処理\n",
        "\n",
        "# (D) 精度を計算\n",
        "# TODO-3: 正しい変数を使って、モデルの精度を計算しよう\n",
        "# accuracy_score(正解のラベル, モデルの予測結果)\n",
        "acc_dnn = accuracy_score(y_test, y_pred_dnn) # ← (C) この括弧の中身を考よう\n",
        "\n",
        "# (E) 結果をresultsに追加\n",
        "results[name] = {'accuracy': acc_dnn, 'time': time.time() - t0, 'model': dnn_model}\n",
        "print(f\"{name:<15} | accuracy: {acc_dnn:.3f}, time: {results[name]['time']:.3f} s\")"
      ],
      "metadata": {
        "id": "1qXmss-24BKy",
        "colab": {
          "base_uri": "https://localhost:8080/"
        },
        "outputId": "f89c30c4-adbb-47a2-f9bf-7d1a429a3944"
      },
      "id": "1qXmss-24BKy",
      "execution_count": 19,
      "outputs": [
        {
          "output_type": "stream",
          "name": "stdout",
          "text": [
            "\n",
            "DNNモデルで学習と評価を手動で実行します...\n",
            "DNN             | accuracy: 0.981, time: 8.131 s\n"
          ]
        }
      ]
    },
    {
      "cell_type": "code",
      "source": [
        "# --- 3. 最終的なベストモデルを選択 ---\n",
        "best_name = max(results, key=lambda k: results[k]['accuracy'])\n",
        "print(f\"\\n✅ Best Model: {best_name}\")"
      ],
      "metadata": {
        "id": "V_G6FkJ24J-V",
        "colab": {
          "base_uri": "https://localhost:8080/"
        },
        "outputId": "a6459949-0a02-4f42-a477-55040a877c4c"
      },
      "id": "V_G6FkJ24J-V",
      "execution_count": 20,
      "outputs": [
        {
          "output_type": "stream",
          "name": "stdout",
          "text": [
            "\n",
            "✅ Best Model: LinearSVC\n"
          ]
        }
      ]
    },
    {
      "cell_type": "markdown",
      "id": "7b051bfd",
      "metadata": {
        "id": "7b051bfd"
      },
      "source": [
        "## 6. 最適モデルの保存\n",
        "選択したモデルを、Webアプリで読み込めるJSON形式で保存します。\n",
        "\n",
        "★現在のWebアプリは、OvR形式にしか対応していません\n",
        "\n",
        "★LinearSVC がベストモデル（accuray がほぼ 1.0）になるはずです！"
      ]
    },
    {
      "cell_type": "code",
      "execution_count": 21,
      "id": "bB4N-6KAONIu",
      "metadata": {
        "id": "bB4N-6KAONIu",
        "colab": {
          "base_uri": "https://localhost:8080/",
          "height": 109
        },
        "outputId": "4ac51a32-fa75-4036-fd49-00dd566c98c3"
      },
      "outputs": [
        {
          "output_type": "stream",
          "name": "stdout",
          "text": [
            "\n",
            "✅ Best Model: LinearSVC\n",
            "'LinearSVC' のパラメータを抽出しました (OvR形式)。\n",
            "\n",
            "'model_meta.json' を保存しました。ダウンロードします。\n"
          ]
        },
        {
          "output_type": "display_data",
          "data": {
            "text/plain": [
              "<IPython.core.display.Javascript object>"
            ],
            "application/javascript": [
              "\n",
              "    async function download(id, filename, size) {\n",
              "      if (!google.colab.kernel.accessAllowed) {\n",
              "        return;\n",
              "      }\n",
              "      const div = document.createElement('div');\n",
              "      const label = document.createElement('label');\n",
              "      label.textContent = `Downloading \"${filename}\": `;\n",
              "      div.appendChild(label);\n",
              "      const progress = document.createElement('progress');\n",
              "      progress.max = size;\n",
              "      div.appendChild(progress);\n",
              "      document.body.appendChild(div);\n",
              "\n",
              "      const buffers = [];\n",
              "      let downloaded = 0;\n",
              "\n",
              "      const channel = await google.colab.kernel.comms.open(id);\n",
              "      // Send a message to notify the kernel that we're ready.\n",
              "      channel.send({})\n",
              "\n",
              "      for await (const message of channel.messages) {\n",
              "        // Send a message to notify the kernel that we're ready.\n",
              "        channel.send({})\n",
              "        if (message.buffers) {\n",
              "          for (const buffer of message.buffers) {\n",
              "            buffers.push(buffer);\n",
              "            downloaded += buffer.byteLength;\n",
              "            progress.value = downloaded;\n",
              "          }\n",
              "        }\n",
              "      }\n",
              "      const blob = new Blob(buffers, {type: 'application/binary'});\n",
              "      const a = document.createElement('a');\n",
              "      a.href = window.URL.createObjectURL(blob);\n",
              "      a.download = filename;\n",
              "      div.appendChild(a);\n",
              "      a.click();\n",
              "      div.remove();\n",
              "    }\n",
              "  "
            ]
          },
          "metadata": {}
        },
        {
          "output_type": "display_data",
          "data": {
            "text/plain": [
              "<IPython.core.display.Javascript object>"
            ],
            "application/javascript": [
              "download(\"download_d44c56e2-9756-41a4-a52c-ca1ff44f3da6\", \"model_meta.json\", 12682)"
            ]
          },
          "metadata": {}
        }
      ],
      "source": [
        "# ## 6. 最適モデルの保存 のセル\n",
        "\n",
        "best_name = max(results, key=lambda k: results[k]['accuracy'])\n",
        "best_model = results[best_name]['model']\n",
        "print(f\"\\n✅ Best Model: {best_name}\")\n",
        "\n",
        "# --- 保存ロジック ---\n",
        "meta = None # 保存するパラメータ\n",
        "can_export_for_webapp = False # Webアプリ用にエクスポート可能か\n",
        "\n",
        "if best_name == \"DNN\":\n",
        "    print(f\"'{best_name}' が最適モデルですが、Webアプリ用のJSON形式では保存できません。\")\n",
        "    print(\"Webで利用するには、TensorFlow.js形式で別途保存する必要があります。\")\n",
        "\n",
        "elif isinstance(best_model, Pipeline):\n",
        "    clf = best_model.named_steps.get('clf')\n",
        "    scaler = best_model.named_steps.get('sc')\n",
        "\n",
        "    # Webアプリ用のパラメータを抽出できるかチェック\n",
        "    if hasattr(clf, 'coef_') and hasattr(clf, 'intercept_'):\n",
        "        # 【追加】coef_の形状をチェックし、OvR戦略のモデルであるか確認\n",
        "        if clf.coef_.shape[0] == len(set(y)):\n",
        "            meta = {\n",
        "                \"name\":      best_name,\n",
        "                \"accuracy\":  results[best_name]['accuracy'],\n",
        "                \"coef\":      clf.coef_.tolist(),\n",
        "                \"intercept\": clf.intercept_.tolist(),\n",
        "                \"labels\":    [int(label) for label in sorted(list(set(y)))],\n",
        "                \"mean\":      scaler.mean_.tolist(),\n",
        "                \"scale\":     scaler.scale_.tolist()\n",
        "            }\n",
        "            can_export_for_webapp = True\n",
        "            print(f\"'{best_name}' のパラメータを抽出しました (OvR形式)。\")\n",
        "        else:\n",
        "            print(f\"'{best_name}' はOvO戦略のため、WebアプリのOvR形式と互換性がありません。\")\n",
        "    else:\n",
        "        print(f\"'{best_name}' はcoef_/intercept_を持たないため、JSON保存に対応していません。\")\n",
        "else:\n",
        "    # RandomForestのようなPipelineでないモデルの場合\n",
        "    print(f\"'{best_name}' はWebアプリ用のパラメータ抽出に対応していません。\")\n",
        "\n",
        "\n",
        "# JSONファイルとして保存・ダウンロード\n",
        "if can_export_for_webapp and meta:\n",
        "    with open('model_meta.json', 'w') as f:\n",
        "        json.dump(meta, f, indent=2)\n",
        "    print(\"\\n'model_meta.json' を保存しました。ダウンロードします。\")\n",
        "    from google.colab import files\n",
        "    files.download('model_meta.json')\n",
        "else:\n",
        "    print(\"\\nWebアプリ用のJSONファイルは生成されませんでした。\")"
      ]
    },
    {
      "cell_type": "code",
      "source": [],
      "metadata": {
        "id": "t-OPfdqmApgy"
      },
      "id": "t-OPfdqmApgy",
      "execution_count": null,
      "outputs": []
    }
  ],
  "metadata": {
    "colab": {
      "provenance": []
    },
    "language_info": {
      "name": "python"
    },
    "kernelspec": {
      "name": "python3",
      "display_name": "Python 3"
    }
  },
  "nbformat": 4,
  "nbformat_minor": 5
}